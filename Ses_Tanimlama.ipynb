{
  "nbformat": 4,
  "nbformat_minor": 0,
  "metadata": {
    "colab": {
      "provenance": [],
      "authorship_tag": "ABX9TyM119R/a1NRxIKnJn9or52M",
      "include_colab_link": true
    },
    "kernelspec": {
      "name": "python3",
      "display_name": "Python 3"
    },
    "language_info": {
      "name": "python"
    }
  },
  "cells": [
    {
      "cell_type": "markdown",
      "metadata": {
        "id": "view-in-github",
        "colab_type": "text"
      },
      "source": [
        "<a href=\"https://colab.research.google.com/github/Sinan6910/Sinan-java-/blob/main/Untitled14.ipynb\" target=\"_parent\"><img src=\"https://colab.research.google.com/assets/colab-badge.svg\" alt=\"Open In Colab\"/></a>"
      ]
    },
    {
      "cell_type": "code",
      "execution_count": 4,
      "metadata": {
        "id": "ccbMbt2C-b63"
      },
      "outputs": [],
      "source": [
        "import pandas as pd\n",
        "import os"
      ]
    },
    {
      "cell_type": "code",
      "source": [
        "from google.colab import drive\n",
        "drive.mount('/content/gdrive')"
      ],
      "metadata": {
        "colab": {
          "base_uri": "https://localhost:8080/"
        },
        "id": "6aSduwzv-f7S",
        "outputId": "4dee6ad6-90ff-444e-fbd5-8125c4802d39"
      },
      "execution_count": 5,
      "outputs": [
        {
          "output_type": "stream",
          "name": "stdout",
          "text": [
            "Drive already mounted at /content/gdrive; to attempt to forcibly remount, call drive.mount(\"/content/gdrive\", force_remount=True).\n"
          ]
        }
      ]
    },
    {
      "cell_type": "code",
      "source": [
        "import tensorflow as tf\n",
        "import os\n",
        "from os.path import isfile, join\n",
        "import numpy as np\n",
        "import shutil\n",
        "from tensorflow import keras\n",
        "from pathlib import Path\n",
        "from IPython.display import display, Audio\n",
        "import subprocess"
      ],
      "metadata": {
        "id": "asxQ_3Ny-xxm"
      },
      "execution_count": 6,
      "outputs": []
    },
    {
      "cell_type": "code",
      "source": [
        "!cp -r \"..//content/gdrive/MyDrive/ses2\" ./"
      ],
      "metadata": {
        "id": "LPtqeJAB-xrm"
      },
      "execution_count": 7,
      "outputs": []
    },
    {
      "cell_type": "code",
      "source": [
        "data_directory = \"/content/gdrive/MyDrive/ses2\"\n",
        "audio_folder = \"audio\"\n",
        "noise_folder = \"noise\"\n",
        "\n",
        "audio_path = os.path.join(data_directory, audio_folder)\n",
        "noise_path = os.path.join(data_directory, noise_folder)"
      ],
      "metadata": {
        "id": "R0EZ83G3-xt-"
      },
      "execution_count": 8,
      "outputs": []
    },
    {
      "cell_type": "code",
      "source": [
        "audio_path"
      ],
      "metadata": {
        "colab": {
          "base_uri": "https://localhost:8080/",
          "height": 35
        },
        "id": "dawCmIrV-xzu",
        "outputId": "aedfc240-0670-4965-eb7b-0aaf1b7e9d37"
      },
      "execution_count": 9,
      "outputs": [
        {
          "output_type": "execute_result",
          "data": {
            "text/plain": [
              "'/content/gdrive/MyDrive/ses2/audio'"
            ],
            "application/vnd.google.colaboratory.intrinsic+json": {
              "type": "string"
            }
          },
          "metadata": {},
          "execution_count": 9
        }
      ]
    },
    {
      "cell_type": "code",
      "source": [
        "valid_split = 0.1\n",
        "\n",
        "shuffle_seed = 43\n",
        "\n",
        "sample_rate = 16000\n",
        "\n",
        "scale = 0.5\n",
        "\n",
        "batch_size = 128\n",
        "\n",
        "epochs = 15"
      ],
      "metadata": {
        "id": "9mbfzrxt-x1R"
      },
      "execution_count": 10,
      "outputs": []
    },
    {
      "cell_type": "code",
      "source": [
        "for folder in os.listdir(data_directory):\n",
        "    if os.path.isdir(os.path.join(data_directory, folder)):\n",
        "        if folder in [audio_folder, noise_folder]:\n",
        "\n",
        "            continue\n",
        "        elif folder in [\"other\", \"_background_noise_\"]:\n",
        "\n",
        "            shutil.move(\n",
        "                os.path.join(data_directory, folder),\n",
        "                os.path.join(noise_path, folder),\n",
        "            )\n",
        "        else:\n",
        "            shutil.move(\n",
        "                os.path.join(data_directory, folder),\n",
        "                os.path.join(audio_path, folder),\n",
        "            )"
      ],
      "metadata": {
        "id": "FJnuzVe3-x3v"
      },
      "execution_count": 11,
      "outputs": []
    },
    {
      "cell_type": "code",
      "source": [
        "noise_paths = []\n",
        "for subdir in os.listdir(noise_path):\n",
        "    subdir_path = Path(noise_path) / subdir\n",
        "    if os.path.isdir(subdir_path):\n",
        "        noise_paths += [\n",
        "            os.path.join(subdir_path, filepath)\n",
        "            for filepath in os.listdir(subdir_path)\n",
        "            if filepath.endswith(\".wav\")\n",
        "        ]"
      ],
      "metadata": {
        "id": "pKVd92VU-x5Y"
      },
      "execution_count": 12,
      "outputs": []
    },
    {
      "cell_type": "code",
      "source": [
        "noise_paths"
      ],
      "metadata": {
        "colab": {
          "base_uri": "https://localhost:8080/"
        },
        "id": "WiJ1p9M2-x7P",
        "outputId": "c69dcc87-1883-4698-b726-234e15e4da47"
      },
      "execution_count": 13,
      "outputs": [
        {
          "output_type": "execute_result",
          "data": {
            "text/plain": [
              "['/content/gdrive/MyDrive/ses2/noise/other/exercise_bike.wav',\n",
              " '/content/gdrive/MyDrive/ses2/noise/other/pink_noise.wav',\n",
              " '/content/gdrive/MyDrive/ses2/noise/_background_noise_/running_tap.wav',\n",
              " '/content/gdrive/MyDrive/ses2/noise/_background_noise_/10convert.com_Audience-Claps_daSG5fwdA7o.wav',\n",
              " '/content/gdrive/MyDrive/ses2/noise/_background_noise_/dude_miaowing.wav',\n",
              " '/content/gdrive/MyDrive/ses2/noise/_background_noise_/doing_the_dishes.wav']"
            ]
          },
          "metadata": {},
          "execution_count": 13
        }
      ]
    },
    {
      "cell_type": "code",
      "source": [
        "command = (\n",
        "    \"for dir in `ls -1 \" + noise_path + \"`; do \"\n",
        "    \"for file in `ls -1 \" + noise_path + \"/$dir/*.wav`; do \"\n",
        "    \"sample_rate=`ffprobe -hide_banner -loglevel panic -show_streams \"\n",
        "    \"$file | grep sample_rate | cut -f2 -d=`; \"\n",
        "    \"if [ $sample_rate -ne 16000 ]; then \"\n",
        "    \"ffmpeg -hide_banner -loglevel panic -y \"\n",
        "    \"-i $file -ar 16000 temp.wav; \"\n",
        "    \"mv temp.wav $file; \"\n",
        "    \"fi; done; done\"\n",
        ")"
      ],
      "metadata": {
        "id": "urKHHQML-x9m"
      },
      "execution_count": 14,
      "outputs": []
    },
    {
      "cell_type": "code",
      "source": [
        "os.system(command)\n",
        "def load_noise_sample(path):\n",
        "    sample, sampling_rate = tf.audio.decode_wav(\n",
        "        tf.io.read_file(path), desired_channels=1\n",
        "    )\n",
        "    if sampling_rate == sample_rate:\n",
        "        slices = int(sample.shape[0] / sample_rate)\n",
        "        sample = tf.split(sample[: slices * sample_rate], slices)\n",
        "        return sample\n",
        "    else:\n",
        "        print(\"Sampling rate for\",path, \"is incorrect\")\n",
        "        return None\n",
        "\n",
        "\n",
        "noises = []\n",
        "for path in noise_paths:\n",
        "    sample = load_noise_sample(path)\n",
        "    if sample:\n",
        "        noises.extend(sample)\n",
        "noises = tf.stack(noises)"
      ],
      "metadata": {
        "id": "S0NNi9OW-x_P"
      },
      "execution_count": 15,
      "outputs": []
    },
    {
      "cell_type": "code",
      "source": [
        "def paths_and_labels_to_dataset(audio_paths, labels):\n",
        "    path_ds = tf.data.Dataset.from_tensor_slices(audio_paths)\n",
        "    audio_ds = path_ds.map(lambda x: path_to_audio(x))\n",
        "    label_ds = tf.data.Dataset.from_tensor_slices(labels)\n",
        "    return tf.data.Dataset.zip((audio_ds, label_ds))"
      ],
      "metadata": {
        "id": "OPaY2FpS-yBf"
      },
      "execution_count": 16,
      "outputs": []
    },
    {
      "cell_type": "code",
      "source": [
        "def path_to_audio(path):\n",
        "    audio = tf.io.read_file(path)\n",
        "    audio, _ = tf.audio.decode_wav(audio, 1, sample_rate)\n",
        "    return audio"
      ],
      "metadata": {
        "id": "kI1IxhTF-yEP"
      },
      "execution_count": 17,
      "outputs": []
    },
    {
      "cell_type": "code",
      "source": [
        "def add_noise(audio, noises=None, scale=0.5):\n",
        "    if noises is not None:\n",
        "        tf_rnd = tf.random.uniform(\n",
        "            (tf.shape(audio)[0],), 0, noises.shape[0], dtype=tf.int32\n",
        "        )\n",
        "        noise = tf.gather(noises, tf_rnd, axis=0)\n",
        "\n",
        "        prop = tf.math.reduce_max(audio, axis=1) / tf.math.reduce_max(noise, axis=1)\n",
        "        prop = tf.repeat(tf.expand_dims(prop, axis=1), tf.shape(audio)[1], axis=1)\n",
        "\n",
        "        audio = audio + noise * prop * scale\n",
        "\n",
        "    return audio"
      ],
      "metadata": {
        "id": "OBGRa7z3AyrX"
      },
      "execution_count": 18,
      "outputs": []
    },
    {
      "cell_type": "code",
      "source": [
        "def audio_to_fft(audio):\n",
        "    audio = tf.squeeze(audio, axis=-1)\n",
        "    fft = tf.signal.fft(\n",
        "        tf.cast(tf.complex(real=audio, imag=tf.zeros_like(audio)), tf.complex64)\n",
        "    )\n",
        "    fft = tf.expand_dims(fft, axis=-1)\n",
        "\n",
        "    return tf.math.abs(fft[:, : (audio.shape[1] // 2), :])"
      ],
      "metadata": {
        "id": "HjEsKZaqAyt7"
      },
      "execution_count": 19,
      "outputs": []
    },
    {
      "cell_type": "code",
      "source": [
        "\n",
        "class_names = os.listdir(audio_path)\n",
        "print(class_names,)\n",
        "\n",
        "audio_paths = []\n",
        "labels = []\n",
        "for label, name in enumerate(class_names):\n",
        "    print(\"Speaker:\",(name))\n",
        "    dir_path = Path(audio_path) / name\n",
        "    speaker_sample_paths = [\n",
        "        os.path.join(dir_path, filepath)\n",
        "        for filepath in os.listdir(dir_path)\n",
        "        if filepath.endswith(\".wav\")\n",
        "    ]\n",
        "    audio_paths += speaker_sample_paths\n",
        "    labels += [label] * len(speaker_sample_paths)"
      ],
      "metadata": {
        "colab": {
          "base_uri": "https://localhost:8080/"
        },
        "id": "HgkrOhYJAywB",
        "outputId": "a67697b0-1382-47ba-fdf0-684fcf67aeb9"
      },
      "execution_count": 20,
      "outputs": [
        {
          "output_type": "stream",
          "name": "stdout",
          "text": [
            "['ufuk', 'ahmet', 'sinan']\n",
            "Speaker: ufuk\n",
            "Speaker: ahmet\n",
            "Speaker: sinan\n"
          ]
        }
      ]
    },
    {
      "cell_type": "code",
      "source": [
        "# Shuffle to generate random data\n",
        "rng = np.random.RandomState(shuffle_seed)\n",
        "rng.shuffle(audio_paths)\n",
        "rng = np.random.RandomState(shuffle_seed)\n",
        "rng.shuffle(labels)"
      ],
      "metadata": {
        "id": "eSHyclkwAy1H"
      },
      "execution_count": 21,
      "outputs": []
    },
    {
      "cell_type": "code",
      "source": [
        "# Split into training and validation\n",
        "num_val_samples = int(valid_split * len(audio_paths))\n",
        "train_audio_paths = audio_paths[:-num_val_samples]\n",
        "train_labels = labels[:-num_val_samples]\n",
        "\n",
        "\n",
        "valid_audio_paths = audio_paths[-num_val_samples:]\n",
        "valid_labels = labels[-num_val_samples:]"
      ],
      "metadata": {
        "id": "dxu1NxgKAy36"
      },
      "execution_count": 22,
      "outputs": []
    },
    {
      "cell_type": "code",
      "source": [
        "# Create datasets, one for training and the other for validation\n",
        "train_ds = paths_and_labels_to_dataset(train_audio_paths, train_labels)\n",
        "train_ds = train_ds.shuffle(buffer_size=batch_size * 8, seed=shuffle_seed).batch(\n",
        "    batch_size\n",
        ")\n",
        "\n",
        "valid_ds = paths_and_labels_to_dataset(valid_audio_paths, valid_labels)\n",
        "valid_ds = valid_ds.shuffle(buffer_size=32 * 8, seed=shuffle_seed).batch(32)"
      ],
      "metadata": {
        "id": "7Tw2Ru5-BGua"
      },
      "execution_count": 23,
      "outputs": []
    },
    {
      "cell_type": "code",
      "source": [
        "# Add noise to the training set\n",
        "train_ds = train_ds.map(\n",
        "    lambda x, y: (add_noise(x, noises, scale=scale), y),\n",
        "    num_parallel_calls=tf.data.experimental.AUTOTUNE,\n",
        ")\n",
        "\n",
        "# Transform audio wave to the frequency domain using `audio_to_fft`\n",
        "train_ds = train_ds.map(\n",
        "    lambda x, y: (audio_to_fft(x), y), num_parallel_calls=tf.data.experimental.AUTOTUNE\n",
        ")\n",
        "\n",
        "train_ds = train_ds.prefetch(tf.data.experimental.AUTOTUNE)\n",
        "\n",
        "valid_ds = valid_ds.map(\n",
        "    lambda x, y: (audio_to_fft(x), y), num_parallel_calls=tf.data.experimental.AUTOTUNE\n",
        ")\n",
        "valid_ds = valid_ds.prefetch(tf.data.experimental.AUTOTUNE)"
      ],
      "metadata": {
        "id": "qjr-VLiEBGyj"
      },
      "execution_count": 24,
      "outputs": []
    },
    {
      "cell_type": "code",
      "source": [
        "from tensorflow.keras.layers import Conv1D"
      ],
      "metadata": {
        "id": "j41-wNU-BG55"
      },
      "execution_count": 25,
      "outputs": []
    },
    {
      "cell_type": "code",
      "source": [
        "def residual_block(x, filters, conv_num = 3, activation = \"relu\"):\n",
        "    s = keras.layers.Conv1D(filters, 1, padding = \"same\")(x)\n",
        "\n",
        "    for i in range(conv_num - 1):\n",
        "        x = keras.layers.Conv1D(filters, 3, padding = \"same\")(x)\n",
        "        x = keras.layers.Activation(activation)(x)\n",
        "\n",
        "    x = keras.layers.Conv1D(filters, 3, padding = \"same\")(x)\n",
        "    x = keras.layers.Add()([x, s])\n",
        "    x = keras.layers.Activation(activation)(x)\n",
        "\n",
        "    return keras.layers.MaxPool1D(pool_size = 2, strides = 2)(x)\n",
        "\n",
        "def build_model(input_shape, num_classes):\n",
        "    inputs = keras.layers.Input(shape = input_shape, name = \"input\")\n",
        "\n",
        "    x = residual_block(inputs, 16, 2)\n",
        "    x = residual_block(inputs, 32, 2)\n",
        "    x = residual_block(inputs, 64, 3)\n",
        "    x = residual_block(inputs, 128, 3)\n",
        "    x = residual_block(inputs, 128, 3)\n",
        "    x = keras.layers.AveragePooling1D(pool_size=3, strides=3)(x)\n",
        "    x = keras.layers.Flatten()(x)\n",
        "    x = keras.layers.Dense(256, activation=\"relu\")(x)\n",
        "    x = keras.layers.Dense(128, activation=\"relu\")(x)\n",
        "\n",
        "    outputs = keras.layers.Dense(num_classes, activation = \"softmax\", name = \"output\")(x)\n",
        "\n",
        "    return keras.models.Model(inputs = inputs, outputs = outputs)\n",
        "\n",
        "model = build_model((sample_rate // 2, 1), len(class_names))\n",
        "\n",
        "model.summary()\n",
        "\n",
        "model.compile(optimizer=\"Adam\", loss=\"sparse_categorical_crossentropy\", metrics=[\"accuracy\"])\n",
        "\n",
        "model_save_filename = \"model.h5\"\n",
        "\n",
        "earlystopping_cb = keras.callbacks.EarlyStopping(patience=10, restore_best_weights=True)\n",
        "\n",
        "mdlcheckpoint_cb = keras.callbacks.ModelCheckpoint(model_save_filename, monitor=\"val_accuracy\", save_best_only=True)"
      ],
      "metadata": {
        "colab": {
          "base_uri": "https://localhost:8080/"
        },
        "id": "aUQoQQheBG8E",
        "outputId": "4adcf85f-993d-4467-dbd7-71708d5ac3a0"
      },
      "execution_count": 26,
      "outputs": [
        {
          "output_type": "stream",
          "name": "stdout",
          "text": [
            "Model: \"model\"\n",
            "__________________________________________________________________________________________________\n",
            " Layer (type)                Output Shape                 Param #   Connected to                  \n",
            "==================================================================================================\n",
            " input (InputLayer)          [(None, 8000, 1)]            0         []                            \n",
            "                                                                                                  \n",
            " conv1d_15 (Conv1D)          (None, 8000, 128)            512       ['input[0][0]']               \n",
            "                                                                                                  \n",
            " activation_10 (Activation)  (None, 8000, 128)            0         ['conv1d_15[0][0]']           \n",
            "                                                                                                  \n",
            " conv1d_16 (Conv1D)          (None, 8000, 128)            49280     ['activation_10[0][0]']       \n",
            "                                                                                                  \n",
            " activation_11 (Activation)  (None, 8000, 128)            0         ['conv1d_16[0][0]']           \n",
            "                                                                                                  \n",
            " conv1d_17 (Conv1D)          (None, 8000, 128)            49280     ['activation_11[0][0]']       \n",
            "                                                                                                  \n",
            " conv1d_14 (Conv1D)          (None, 8000, 128)            256       ['input[0][0]']               \n",
            "                                                                                                  \n",
            " add_4 (Add)                 (None, 8000, 128)            0         ['conv1d_17[0][0]',           \n",
            "                                                                     'conv1d_14[0][0]']           \n",
            "                                                                                                  \n",
            " activation_12 (Activation)  (None, 8000, 128)            0         ['add_4[0][0]']               \n",
            "                                                                                                  \n",
            " max_pooling1d_4 (MaxPoolin  (None, 4000, 128)            0         ['activation_12[0][0]']       \n",
            " g1D)                                                                                             \n",
            "                                                                                                  \n",
            " average_pooling1d (Average  (None, 1333, 128)            0         ['max_pooling1d_4[0][0]']     \n",
            " Pooling1D)                                                                                       \n",
            "                                                                                                  \n",
            " flatten (Flatten)           (None, 170624)               0         ['average_pooling1d[0][0]']   \n",
            "                                                                                                  \n",
            " dense (Dense)               (None, 256)                  4368000   ['flatten[0][0]']             \n",
            "                                                          0                                       \n",
            "                                                                                                  \n",
            " dense_1 (Dense)             (None, 128)                  32896     ['dense[0][0]']               \n",
            "                                                                                                  \n",
            " output (Dense)              (None, 3)                    387       ['dense_1[0][0]']             \n",
            "                                                                                                  \n",
            "==================================================================================================\n",
            "Total params: 43812611 (167.13 MB)\n",
            "Trainable params: 43812611 (167.13 MB)\n",
            "Non-trainable params: 0 (0.00 Byte)\n",
            "__________________________________________________________________________________________________\n"
          ]
        }
      ]
    },
    {
      "cell_type": "code",
      "source": [
        "history = model.fit(\n",
        "    train_ds,\n",
        "    epochs=epochs,\n",
        "    validation_data=valid_ds,\n",
        "    callbacks=[earlystopping_cb, mdlcheckpoint_cb],\n",
        ")"
      ],
      "metadata": {
        "colab": {
          "base_uri": "https://localhost:8080/"
        },
        "id": "XZ-oie0BBG-z",
        "outputId": "7005ae94-0a26-487e-9986-93745591c1d5"
      },
      "execution_count": 27,
      "outputs": [
        {
          "metadata": {
            "tags": null
          },
          "name": "stdout",
          "output_type": "stream",
          "text": [
            "Epoch 1/15\n",
            "13/13 [==============================] - ETA: 0s - loss: 11.7261 - accuracy: 0.4159 "
          ]
        },
        {
          "metadata": {
            "tags": null
          },
          "name": "stderr",
          "output_type": "stream",
          "text": [
            "/usr/local/lib/python3.10/dist-packages/keras/src/engine/training.py:3103: UserWarning: You are saving your model as an HDF5 file via `model.save()`. This file format is considered legacy. We recommend using instead the native Keras format, e.g. `model.save('my_model.keras')`.\n",
            "  saving_api.save_model(\n"
          ]
        },
        {
          "output_type": "stream",
          "name": "stdout",
          "text": [
            "\b\b\b\b\b\b\b\b\b\b\b\b\b\b\b\b\b\b\b\b\b\b\b\b\b\b\b\b\b\b\b\b\b\b\b\b\b\b\b\b\b\b\b\b\b\b\b\b\b\b\b\b\b\b\b\b\b\b\b\b\b\b\b\b\b\b\b\b\b\b\b\b\b\b\b\b\b\b\b\b\b\b\b\r13/13 [==============================] - 297s 22s/step - loss: 11.7261 - accuracy: 0.4159 - val_loss: 0.8433 - val_accuracy: 0.5847\n",
            "Epoch 2/15\n",
            "13/13 [==============================] - 274s 20s/step - loss: 0.7724 - accuracy: 0.6460 - val_loss: 0.6532 - val_accuracy: 0.7486\n",
            "Epoch 3/15\n",
            "13/13 [==============================] - 273s 20s/step - loss: 0.5519 - accuracy: 0.7650 - val_loss: 0.6664 - val_accuracy: 0.7650\n",
            "Epoch 4/15\n",
            "13/13 [==============================] - 280s 20s/step - loss: 0.4341 - accuracy: 0.8349 - val_loss: 0.5434 - val_accuracy: 0.7650\n",
            "Epoch 5/15\n",
            "13/13 [==============================] - 280s 21s/step - loss: 0.3263 - accuracy: 0.8786 - val_loss: 0.6185 - val_accuracy: 0.7814\n",
            "Epoch 6/15\n",
            "13/13 [==============================] - 285s 21s/step - loss: 0.2967 - accuracy: 0.8865 - val_loss: 0.7079 - val_accuracy: 0.7705\n",
            "Epoch 7/15\n",
            "13/13 [==============================] - 273s 21s/step - loss: 0.2745 - accuracy: 0.8925 - val_loss: 0.4168 - val_accuracy: 0.8361\n",
            "Epoch 8/15\n",
            "13/13 [==============================] - 284s 21s/step - loss: 0.2318 - accuracy: 0.9083 - val_loss: 0.4272 - val_accuracy: 0.8142\n",
            "Epoch 9/15\n",
            "13/13 [==============================] - 280s 21s/step - loss: 0.2024 - accuracy: 0.9101 - val_loss: 0.5363 - val_accuracy: 0.8251\n",
            "Epoch 10/15\n",
            "13/13 [==============================] - 287s 22s/step - loss: 0.2168 - accuracy: 0.9162 - val_loss: 0.4767 - val_accuracy: 0.8634\n",
            "Epoch 11/15\n",
            "13/13 [==============================] - 278s 21s/step - loss: 0.1546 - accuracy: 0.9472 - val_loss: 0.3806 - val_accuracy: 0.8689\n",
            "Epoch 12/15\n",
            "13/13 [==============================] - 296s 22s/step - loss: 0.1663 - accuracy: 0.9399 - val_loss: 0.3656 - val_accuracy: 0.8743\n",
            "Epoch 13/15\n",
            "13/13 [==============================] - 280s 21s/step - loss: 0.1574 - accuracy: 0.9387 - val_loss: 0.3262 - val_accuracy: 0.8962\n",
            "Epoch 14/15\n",
            "13/13 [==============================] - 289s 22s/step - loss: 0.1329 - accuracy: 0.9478 - val_loss: 0.4461 - val_accuracy: 0.8689\n",
            "Epoch 15/15\n",
            "13/13 [==============================] - 270s 20s/step - loss: 0.1431 - accuracy: 0.9454 - val_loss: 0.3602 - val_accuracy: 0.8798\n"
          ]
        }
      ]
    },
    {
      "cell_type": "code",
      "source": [
        "print(\"Accuracy of model:\",model.evaluate(valid_ds))"
      ],
      "metadata": {
        "colab": {
          "base_uri": "https://localhost:8080/"
        },
        "id": "QsJ9cx81BcYw",
        "outputId": "0ccc64bb-7578-470f-e78b-6a2eafd32636"
      },
      "execution_count": 28,
      "outputs": [
        {
          "output_type": "stream",
          "name": "stdout",
          "text": [
            "6/6 [==============================] - 19s 3s/step - loss: 0.3602 - accuracy: 0.8798\n",
            "Accuracy of model: [0.36016324162483215, 0.8797814249992371]\n"
          ]
        }
      ]
    },
    {
      "cell_type": "code",
      "source": [
        "SAMPLES_TO_DISPLAY = 10\n",
        "\n",
        "test_ds = paths_and_labels_to_dataset(valid_audio_paths, valid_labels)\n",
        "test_ds = test_ds.shuffle(buffer_size=batch_size * 8, seed=shuffle_seed).batch(\n",
        "    batch_size\n",
        ")\n",
        "\n",
        "test_ds = test_ds.map(lambda x, y: (add_noise(x, noises, scale=scale), y))\n",
        "\n",
        "for audios, labels in test_ds.take(1):\n",
        "    ffts = audio_to_fft(audios)\n",
        "    y_pred = model.predict(ffts)\n",
        "    rnd = np.random.randint(0, batch_size, SAMPLES_TO_DISPLAY)\n",
        "    audios = audios.numpy()[rnd, :, :]\n",
        "    labels = labels.numpy()[rnd]\n",
        "    y_pred = np.argmax(y_pred, axis=-1)[rnd]\n",
        "\n",
        "    for index in range(SAMPLES_TO_DISPLAY):\n",
        "        print(\n",
        "            \"Speaker:\\33{} {}\\33[0m\\tPredicted:\\33{} {}\\33[0m\".format(\n",
        "                \"[92m\" if labels[index] == y_pred[index] else \"[91m\",\n",
        "                class_names[labels[index]],\n",
        "                \"[92m\" if labels[index] == y_pred[index] else \"[91m\",\n",
        "                class_names[y_pred[index]],\n",
        "            )\n",
        "        )\n",
        "        if labels[index] ==y_pred[index]:\n",
        "            print(\"Welcome\")\n",
        "        else:\n",
        "            print(\"Sorry\")\n",
        "        print(\"The speaker is\" if labels[index] == y_pred[index] else \"\", class_names[y_pred[index]])"
      ],
      "metadata": {
        "colab": {
          "base_uri": "https://localhost:8080/"
        },
        "id": "Le9MpZmOBca3",
        "outputId": "e05d909a-1fb1-456f-ec96-24cdaa74f304"
      },
      "execution_count": 29,
      "outputs": [
        {
          "output_type": "stream",
          "name": "stdout",
          "text": [
            "4/4 [==============================] - 6s 1s/step\n",
            "Speaker:\u001b[92m ahmet\u001b[0m\tPredicted:\u001b[92m ahmet\u001b[0m\n",
            "Welcome\n",
            "The speaker is ahmet\n",
            "Speaker:\u001b[92m sinan\u001b[0m\tPredicted:\u001b[92m sinan\u001b[0m\n",
            "Welcome\n",
            "The speaker is sinan\n",
            "Speaker:\u001b[92m ahmet\u001b[0m\tPredicted:\u001b[92m ahmet\u001b[0m\n",
            "Welcome\n",
            "The speaker is ahmet\n",
            "Speaker:\u001b[92m ahmet\u001b[0m\tPredicted:\u001b[92m ahmet\u001b[0m\n",
            "Welcome\n",
            "The speaker is ahmet\n",
            "Speaker:\u001b[91m ufuk\u001b[0m\tPredicted:\u001b[91m sinan\u001b[0m\n",
            "Sorry\n",
            " sinan\n",
            "Speaker:\u001b[92m ahmet\u001b[0m\tPredicted:\u001b[92m ahmet\u001b[0m\n",
            "Welcome\n",
            "The speaker is ahmet\n",
            "Speaker:\u001b[92m ufuk\u001b[0m\tPredicted:\u001b[92m ufuk\u001b[0m\n",
            "Welcome\n",
            "The speaker is ufuk\n",
            "Speaker:\u001b[92m ahmet\u001b[0m\tPredicted:\u001b[92m ahmet\u001b[0m\n",
            "Welcome\n",
            "The speaker is ahmet\n",
            "Speaker:\u001b[92m ahmet\u001b[0m\tPredicted:\u001b[92m ahmet\u001b[0m\n",
            "Welcome\n",
            "The speaker is ahmet\n",
            "Speaker:\u001b[92m sinan\u001b[0m\tPredicted:\u001b[92m sinan\u001b[0m\n",
            "Welcome\n",
            "The speaker is sinan\n"
          ]
        }
      ]
    },
    {
      "cell_type": "code",
      "source": [
        " def paths_to_dataset(audio_paths):\n",
        "    path_ds = tf.data.Dataset.from_tensor_slices(audio_paths)\n",
        "    return tf.data.Dataset.zip((path_ds))\n",
        "\n",
        "def predict(path, labels):\n",
        "    test = paths_and_labels_to_dataset(path, labels)\n",
        "\n",
        "\n",
        "    test = test.shuffle(buffer_size=batch_size * 8, seed=shuffle_seed).batch(\n",
        "    batch_size\n",
        "    )\n",
        "    test = test.prefetch(tf.data.experimental.AUTOTUNE)\n",
        "\n",
        "\n",
        "    test = test.map(lambda x, y: (add_noise(x, noises, scale=scale), y))\n",
        "\n",
        "    for audios, labels in test.take(1):\n",
        "        ffts = audio_to_fft(audios)\n",
        "        y_pred = model.predict(ffts)\n",
        "        rnd = np.random.randint(0, 1, 1)\n",
        "        audios = audios.numpy()[rnd, :]\n",
        "        labels = labels.numpy()[rnd]\n",
        "        y_pred = np.argmax(y_pred, axis=-1)[rnd]\n",
        "\n",
        "    for index in range(1):\n",
        "            print(\n",
        "            \"Speaker:\\33{} {}\\33[0m\\tPredicted:\\33{} {}\\33[0m\".format(\n",
        "            \"[92m\",y_pred[index],\n",
        "                \"[92m\", y_pred[index]\n",
        "                )\n",
        "            )\n",
        "\n",
        "            print(\"Speaker Predicted:\",class_names[y_pred[index]])\n",
        "\n"
      ],
      "metadata": {
        "id": "qpYOg9eeBcc_"
      },
      "execution_count": 30,
      "outputs": []
    },
    {
      "cell_type": "code",
      "source": [
        "path = [\"/content/gdrive/MyDrive/deneme2.wav\"]\n",
        "labels = [\"unknown\"]\n",
        "try:\n",
        "    predict(path, labels)\n",
        "except Exception as e:\n",
        "    print(f\"Error! Check if the file correctly passed or not! {e}\")\n",
        "\n"
      ],
      "metadata": {
        "colab": {
          "base_uri": "https://localhost:8080/"
        },
        "id": "4xvBib5rBce9",
        "outputId": "8e807034-eb2c-4ee8-95c3-93cdbe190cb4"
      },
      "execution_count": 46,
      "outputs": [
        {
          "output_type": "stream",
          "name": "stdout",
          "text": [
            "1/1 [==============================] - 0s 121ms/step\n",
            "Speaker:\u001b[92m 2\u001b[0m\tPredicted:\u001b[92m 2\u001b[0m\n",
            "Speaker Predicted: sinan\n"
          ]
        }
      ]
    },
    {
      "cell_type": "code",
      "source": [
        "# Modeli Google Drive'a kaydedin\n",
        "model_save_filename = \"/content/gdrive/MyDrive/16000/model.h5\"\n",
        "model.save(model_save_filename)\n"
      ],
      "metadata": {
        "id": "V3YirkksBcg5"
      },
      "execution_count": 33,
      "outputs": []
    },
    {
      "cell_type": "code",
      "source": [
        "# Modeli GitHub'a yükleme\n",
        "!git add my_model.h5\n",
        "!git commit -m \"Add trained model\"\n",
        "!git push origin master\n"
      ],
      "metadata": {
        "colab": {
          "base_uri": "https://localhost:8080/"
        },
        "id": "JGDZ1GXWx40r",
        "outputId": "e10ad1c7-c1fd-48fb-9861-90669190ab62"
      },
      "execution_count": 47,
      "outputs": [
        {
          "output_type": "stream",
          "name": "stdout",
          "text": [
            "fatal: not a git repository (or any of the parent directories): .git\n",
            "fatal: not a git repository (or any of the parent directories): .git\n",
            "fatal: not a git repository (or any of the parent directories): .git\n"
          ]
        }
      ]
    },
    {
      "cell_type": "code",
      "source": [
        "# Save the weights\n",
        "model.save_weights('/content/gdrive/MyDrive/16000/model.h5')\n",
        "\n",
        "# Restore the weights\n",
        "model.load_weights('/content/gdrive/MyDrive/16000/model.h5')\n",
        "\n",
        "# Evaluate the model\n",
        "test_loss, test_acc = model.evaluate(valid_ds)\n",
        "print(\"Test accuracy:\", test_acc)\n"
      ],
      "metadata": {
        "colab": {
          "base_uri": "https://localhost:8080/"
        },
        "id": "HLM5RhioBcjG",
        "outputId": "98c2a1af-cbbd-4b73-c6c9-de153f1fe9e7"
      },
      "execution_count": 36,
      "outputs": [
        {
          "output_type": "stream",
          "name": "stdout",
          "text": [
            "6/6 [==============================] - 20s 3s/step - loss: 0.3602 - accuracy: 0.8798\n",
            "Test accuracy: 0.8797814249992371\n"
          ]
        }
      ]
    }
  ]
}
